{
  "cells": [
    {
      "cell_type": "code",
      "execution_count": 115,
      "metadata": {
        "colab": {
          "base_uri": "https://localhost:8080/"
        },
        "id": "hD8TRh0rCSmO",
        "outputId": "c60b9fe5-37e5-4833-fbcc-248ceb569807"
      },
      "outputs": [
        {
          "name": "stdout",
          "output_type": "stream",
          "text": [
            "Requirement already satisfied: easyocr in /opt/anaconda3/envs/number/lib/python3.8/site-packages (1.7.2)\n",
            "Requirement already satisfied: torch in /opt/anaconda3/envs/number/lib/python3.8/site-packages (from easyocr) (2.4.1)\n",
            "Requirement already satisfied: torchvision>=0.5 in /opt/anaconda3/envs/number/lib/python3.8/site-packages (from easyocr) (0.19.1)\n",
            "Requirement already satisfied: opencv-python-headless in /opt/anaconda3/envs/number/lib/python3.8/site-packages (from easyocr) (4.12.0.88)\n",
            "Requirement already satisfied: scipy in /opt/anaconda3/envs/number/lib/python3.8/site-packages (from easyocr) (1.10.1)\n",
            "Requirement already satisfied: numpy in /opt/anaconda3/envs/number/lib/python3.8/site-packages (from easyocr) (1.24.4)\n",
            "Requirement already satisfied: Pillow in /opt/anaconda3/envs/number/lib/python3.8/site-packages (from easyocr) (10.4.0)\n",
            "Requirement already satisfied: scikit-image in /opt/anaconda3/envs/number/lib/python3.8/site-packages (from easyocr) (0.21.0)\n",
            "Requirement already satisfied: python-bidi in /opt/anaconda3/envs/number/lib/python3.8/site-packages (from easyocr) (0.6.6)\n",
            "Requirement already satisfied: PyYAML in /opt/anaconda3/envs/number/lib/python3.8/site-packages (from easyocr) (6.0.2)\n",
            "Requirement already satisfied: Shapely in /opt/anaconda3/envs/number/lib/python3.8/site-packages (from easyocr) (2.0.7)\n",
            "Requirement already satisfied: pyclipper in /opt/anaconda3/envs/number/lib/python3.8/site-packages (from easyocr) (1.3.0.post6)\n",
            "Requirement already satisfied: ninja in /opt/anaconda3/envs/number/lib/python3.8/site-packages (from easyocr) (1.11.1.4)\n",
            "Requirement already satisfied: filelock in /opt/anaconda3/envs/number/lib/python3.8/site-packages (from torch->easyocr) (3.16.1)\n",
            "Requirement already satisfied: typing-extensions>=4.8.0 in /opt/anaconda3/envs/number/lib/python3.8/site-packages (from torch->easyocr) (4.12.2)\n",
            "Requirement already satisfied: sympy in /opt/anaconda3/envs/number/lib/python3.8/site-packages (from torch->easyocr) (1.13.3)\n",
            "Requirement already satisfied: networkx in /opt/anaconda3/envs/number/lib/python3.8/site-packages (from torch->easyocr) (3.1)\n",
            "Requirement already satisfied: jinja2 in /opt/anaconda3/envs/number/lib/python3.8/site-packages (from torch->easyocr) (3.1.6)\n",
            "Requirement already satisfied: fsspec in /opt/anaconda3/envs/number/lib/python3.8/site-packages (from torch->easyocr) (2025.3.0)\n",
            "Requirement already satisfied: imageio>=2.27 in /opt/anaconda3/envs/number/lib/python3.8/site-packages (from scikit-image->easyocr) (2.35.1)\n",
            "Requirement already satisfied: tifffile>=2022.8.12 in /opt/anaconda3/envs/number/lib/python3.8/site-packages (from scikit-image->easyocr) (2023.7.10)\n",
            "Requirement already satisfied: PyWavelets>=1.1.1 in /opt/anaconda3/envs/number/lib/python3.8/site-packages (from scikit-image->easyocr) (1.4.1)\n",
            "Requirement already satisfied: packaging>=21 in /opt/anaconda3/envs/number/lib/python3.8/site-packages (from scikit-image->easyocr) (25.0)\n",
            "Requirement already satisfied: lazy_loader>=0.2 in /opt/anaconda3/envs/number/lib/python3.8/site-packages (from scikit-image->easyocr) (0.4)\n",
            "Requirement already satisfied: MarkupSafe>=2.0 in /opt/anaconda3/envs/number/lib/python3.8/site-packages (from jinja2->torch->easyocr) (2.1.5)\n",
            "Requirement already satisfied: mpmath<1.4,>=1.1.0 in /opt/anaconda3/envs/number/lib/python3.8/site-packages (from sympy->torch->easyocr) (1.3.0)\n",
            "Note: you may need to restart the kernel to use updated packages.\n"
          ]
        }
      ],
      "source": [
        "pip install easyocr"
      ]
    },
    {
      "cell_type": "code",
      "execution_count": 110,
      "metadata": {
        "id": "6wKgPU52CZ6K"
      },
      "outputs": [],
      "source": [
        "import matplotlib.pyplot as plt\n",
        "import cv2\n",
        "import easyocr\n",
        "from IPython.display import Image"
      ]
    },
    {
      "cell_type": "code",
      "execution_count": 111,
      "metadata": {},
      "outputs": [
        {
          "data": {
            "image/jpeg": "[encoded data removed]",
            "text/plain": [
              "<IPython.core.display.Image object>"
            ]
          },
          "execution_count": 111,
          "metadata": {},
          "output_type": "execute_result"
        }
      ],
      "source": [
        "from IPython.display import Image\n",
        "Image(\"../plates/scaned_img_2.jpg\")"
      ]
    },
    {
      "cell_type": "code",
      "execution_count": 112,
      "metadata": {
        "colab": {
          "base_uri": "https://localhost:8080/"
        },
        "id": "ZYD5fu4NCq2U",
        "outputId": "8a9390ef-9bad-443f-88d8-48411a496fc6"
      },
      "outputs": [],
      "source": [
        "reader = easyocr.Reader(['en'])"
      ]
    },
    {
      "cell_type": "code",
      "execution_count": 113,
      "metadata": {
        "id": "ZCHP-450Cl9x"
      },
      "outputs": [
        {
          "name": "stdout",
          "output_type": "stream",
          "text": [
            "Detected Plate(s): ['TR', '03 MF', '4477']\n"
          ]
        }
      ],
      "source": [
        "output = reader.readtext('../plates/scaned_img_2.jpg')\n",
        "plate_texts = [text for _, text, conf in output if conf > 0.4]\n",
        "print(\"Detected Plate(s):\", plate_texts)"
      ]
    },
    {
      "cell_type": "code",
      "execution_count": 114,
      "metadata": {},
      "outputs": [],
      "source": [
        "with open(\"detected_plate.txt\", \"w\") as f:\n",
        "    for plate in plate_texts:\n",
        "        f.write(plate + \"\\n\")"
      ]
    }
  ],
  "metadata": {
    "accelerator": "GPU",
    "colab": {
      "provenance": []
    },
    "kernelspec": {
      "display_name": "number",
      "language": "python",
      "name": "python3"
    },
    "language_info": {
      "codemirror_mode": {
        "name": "ipython",
        "version": 3
      },
      "file_extension": ".py",
      "mimetype": "text/x-python",
      "name": "python",
      "nbconvert_exporter": "python",
      "pygments_lexer": "ipython3",
      "version": "3.8.20"
    }
  },
  "nbformat": 4,
  "nbformat_minor": 0
}
